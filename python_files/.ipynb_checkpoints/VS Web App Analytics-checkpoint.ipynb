{
 "cells": [
  {
   "cell_type": "code",
   "execution_count": 1,
   "metadata": {
    "collapsed": true
   },
   "outputs": [],
   "source": [
    "%matplotlib inline\n",
    "\n",
    "import pandas as pd\n",
    "import matplotlib.pyplot as plt"
   ]
  },
  {
   "cell_type": "code",
   "execution_count": 2,
   "metadata": {
    "collapsed": true
   },
   "outputs": [],
   "source": [
    "fileName = 'analytics.json'\n",
    "df = pd.read_json(fileName)"
   ]
  },
  {
   "cell_type": "code",
   "execution_count": 3,
   "metadata": {
    "collapsed": false
   },
   "outputs": [
    {
     "data": {
      "text/html": [
       "<div>\n",
       "<table border=\"1\" class=\"dataframe\">\n",
       "  <thead>\n",
       "    <tr style=\"text-align: right;\">\n",
       "      <th></th>\n",
       "      <th>2018-03-19 12:01:32.445000</th>\n",
       "      <th>2018-03-19 12:01:59.154000</th>\n",
       "      <th>2018-03-19 12:02:12.783000</th>\n",
       "      <th>2018-03-19 12:02:19.763000</th>\n",
       "      <th>2018-03-19 12:02:23.775000</th>\n",
       "      <th>2018-03-19 12:02:29.266000</th>\n",
       "      <th>2018-03-19 12:02:34.023000</th>\n",
       "      <th>2018-03-19 12:02:38.187000</th>\n",
       "    </tr>\n",
       "  </thead>\n",
       "  <tbody>\n",
       "    <tr>\n",
       "      <th>count</th>\n",
       "      <td>8</td>\n",
       "      <td>8</td>\n",
       "      <td>8</td>\n",
       "      <td>8</td>\n",
       "      <td>8</td>\n",
       "      <td>8</td>\n",
       "      <td>8</td>\n",
       "      <td>8</td>\n",
       "    </tr>\n",
       "    <tr>\n",
       "      <th>unique</th>\n",
       "      <td>8</td>\n",
       "      <td>8</td>\n",
       "      <td>8</td>\n",
       "      <td>8</td>\n",
       "      <td>8</td>\n",
       "      <td>8</td>\n",
       "      <td>8</td>\n",
       "      <td>8</td>\n",
       "    </tr>\n",
       "    <tr>\n",
       "      <th>top</th>\n",
       "      <td>l</td>\n",
       "      <td>1521460919154</td>\n",
       "      <td>1521460932783</td>\n",
       "      <td>l</td>\n",
       "      <td>1521460943775</td>\n",
       "      <td>l</td>\n",
       "      <td>l</td>\n",
       "      <td>l</td>\n",
       "    </tr>\n",
       "    <tr>\n",
       "      <th>freq</th>\n",
       "      <td>1</td>\n",
       "      <td>1</td>\n",
       "      <td>1</td>\n",
       "      <td>1</td>\n",
       "      <td>1</td>\n",
       "      <td>1</td>\n",
       "      <td>1</td>\n",
       "      <td>1</td>\n",
       "    </tr>\n",
       "  </tbody>\n",
       "</table>\n",
       "</div>"
      ],
      "text/plain": [
       "       2018-03-19 12:01:32.445  2018-03-19 12:01:59.154  \\\n",
       "count                        8                        8   \n",
       "unique                       8                        8   \n",
       "top                          l            1521460919154   \n",
       "freq                         1                        1   \n",
       "\n",
       "        2018-03-19 12:02:12.783 2018-03-19 12:02:19.763  \\\n",
       "count                         8                       8   \n",
       "unique                        8                       8   \n",
       "top               1521460932783                       l   \n",
       "freq                          1                       1   \n",
       "\n",
       "        2018-03-19 12:02:23.775 2018-03-19 12:02:29.266  \\\n",
       "count                         8                       8   \n",
       "unique                        8                       8   \n",
       "top               1521460943775                       l   \n",
       "freq                          1                       1   \n",
       "\n",
       "       2018-03-19 12:02:34.023 2018-03-19 12:02:38.187  \n",
       "count                        8                       8  \n",
       "unique                       8                       8  \n",
       "top                          l                       l  \n",
       "freq                         1                       1  "
      ]
     },
     "execution_count": 3,
     "metadata": {},
     "output_type": "execute_result"
    }
   ],
   "source": [
    "df.describe()"
   ]
  },
  {
   "cell_type": "code",
   "execution_count": 15,
   "metadata": {
    "collapsed": false
   },
   "outputs": [],
   "source": [
    "windows = {}\n",
    "\n",
    "for utc in df:\n",
    "    d = df[utc]\n",
    "    if d['w'] in windows:\n",
    "        windows[d['w']] += 1\n",
    "    else:\n",
    "        windows[d['w']] = 1"
   ]
  },
  {
   "cell_type": "code",
   "execution_count": 16,
   "metadata": {
    "collapsed": false
   },
   "outputs": [
    {
     "data": {
      "text/plain": [
       "{'l': 8}"
      ]
     },
     "execution_count": 16,
     "metadata": {},
     "output_type": "execute_result"
    }
   ],
   "source": [
    "windows"
   ]
  },
  {
   "cell_type": "code",
   "execution_count": 10,
   "metadata": {
    "collapsed": false
   },
   "outputs": [
    {
     "data": {
      "text/plain": [
       "True"
      ]
     },
     "execution_count": 10,
     "metadata": {},
     "output_type": "execute_result"
    }
   ],
   "source": [
    "'a' in o"
   ]
  }
 ],
 "metadata": {
  "kernelspec": {
   "display_name": "Python [Root]",
   "language": "python",
   "name": "Python [Root]"
  },
  "language_info": {
   "codemirror_mode": {
    "name": "ipython",
    "version": 3
   },
   "file_extension": ".py",
   "mimetype": "text/x-python",
   "name": "python",
   "nbconvert_exporter": "python",
   "pygments_lexer": "ipython3",
   "version": "3.5.1"
  }
 },
 "nbformat": 4,
 "nbformat_minor": 0
}
